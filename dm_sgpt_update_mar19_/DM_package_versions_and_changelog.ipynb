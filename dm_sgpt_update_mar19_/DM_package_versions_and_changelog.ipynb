{
 "cells": [
  {
   "cell_type": "code",
   "execution_count": 3,
   "id": "13c79fea-d6ad-4771-9e42-8ee7fa74c4a1",
   "metadata": {},
   "outputs": [
    {
     "name": "stdout",
     "output_type": "stream",
     "text": [
      "Python Version: 3.10.12 (main, Jan 17 2025, 14:35:34) [GCC 11.4.0]\n",
      "Pandas Version: 2.2.3\n",
      "Numpy Version: 1.26.0\n",
      "Tensorflow Version: 2.18.0\n",
      "Scipy Version: 1.15.1\n",
      "\n",
      "Notes:\n",
      ">in train_prior.py I (NVIDIA GPU-less scrub) had to go into the function run_eval() at line 54 and change \"cuda\" to \"cpu\"\n",
      ">On a training dataset of the first 500 rows of Moses and testing dataset of 100 rows from Moses\n",
      ">The training requires an argument for max smiles length, authors used 140. should check if any of our exceed that\n",
      ">in the script train_prior.py, the last step takes a while (hour plus if you dont reduce the # of embeddings\n",
      "can we change the number of embeddings? what is an embedding? idk!\n",
      "\n",
      ">MOSES\n",
      "he script uses Moses as the default database. In order to use moses, you cannot just do pip install moses.\n",
      "installed a package called fcd_torch with pip\n",
      "I have cloned the repo, added the repo to my path using sys.path.append(), then now i can import stuff\n",
      "After this: It was written in python2, so some updates are needed\n",
      "Commented out line 27 of moses.metrics.SA_Score/sascorer.py (\"from rdkit.six import iteritems\")\n",
      "In line 63, replace iteritems with just items.\n",
      "in moses/metrics/utils.py i replaced some old pandas stuff with new pandas stuff on line 24.\n",
      "as in i replcaed _filters with this:\n",
      "combined_filters = pd.concat([_mcf, _pains], ignore_index=True, sort=True)\n",
      "_filters = [Chem.MolFromSmarts(x) for x in combined_filters[\"smarts\"].dropna()]\n",
      "\n",
      "\n",
      "agent_trainer\n",
      "line 26 of agent_trainer.py changed device to \"cpu\"\n",
      "hard coded in file path to config in line 63\n",
      "handled step bug ~line 230 of scoring_functions.py, didn\"t work for step fricking 0\n"
     ]
    }
   ],
   "source": [
    "import pandas as pd\n",
    "import numpy as np\n",
    "import tensorflow as tf\n",
    "import scipy\n",
    "import sys\n",
    "\n",
    "print(f'Python Version: {sys.version}')\n",
    "print(f'Pandas Version: {pd.__version__}')\n",
    "print(f'Numpy Version: {np.version.version}')\n",
    "print(f'Tensorflow Version: {tf.__version__}')\n",
    "print(f'Scipy Version: {scipy.__version__}')\n",
    "#print(f'moses version: {moses.__version__}')\n",
    "\n",
    "\n",
    "\n",
    "\n",
    "\n",
    "print('\\nNotes:')\n",
    "print('>in train_prior.py I (NVIDIA GPU-less scrub) had to go into the function run_eval() at line 54 and change \"cuda\" to \"cpu\"')\n",
    "print('>On a training dataset of the first 500 rows of Moses and testing dataset of 100 rows from Moses')\n",
    "print('>The training requires an argument for max smiles length, authors used 140. should check if any of our exceed that')\n",
    "print('>in the script train_prior.py, the last step takes a while (hour plus if you dont reduce the # of embeddings')\n",
    "print('can we change the number of embeddings? what is an embedding? idk!')\n",
    "print('\\n>MOSES\\nhe script uses Moses as the default database. In order to use moses, you cannot just do pip install moses.')\n",
    "print('installed a package called fcd_torch with pip')\n",
    "print('I have cloned the repo, added the repo to my path using sys.path.append(), then now i can import stuff')\n",
    "print('After this: It was written in python2, so some updates are needed')\n",
    "print('Commented out line 27 of moses.metrics.SA_Score/sascorer.py (\"from rdkit.six import iteritems\")')\n",
    "print('In line 63, replace iteritems with just items.')\n",
    "print('in moses/metrics/utils.py i replaced some old pandas stuff with new pandas stuff on line 24.')\n",
    "print('as in i replcaed _filters with this:\\ncombined_filters = pd.concat([_mcf, _pains], ignore_index=True, sort=True)\\n_filters = [Chem.MolFromSmarts(x) for x in combined_filters[\"smarts\"].dropna()]')\n",
    "print('USE THIS LINE IN TERMINAL:\\nexport PYTHONPATH=\"/path/to/sgpt/moses_1:$PYTHONPATH\"')\n",
    "\n",
    "\n",
    "\n",
    "\n",
    "\n",
    "print('\\n\\nagent_trainer')\n",
    "print('line 26 of agent_trainer.py changed device to \"cpu\"')\n",
    "print('hard coded in file path to config in line 63')\n",
    "print('handled step bug ~line 230 of scoring_functions.py, didn\"t work for step fricking 0')\n",
    "print('SO THE ERROR IS IN SCORING FUNCTIONS.PY WHEN IT TRIES TO CALL DOCKER. CANNOT GET FUCKING DOCKER TO RUN')\n",
    "print('pip install pydantic whatever dude')\n",
    "print('installing autdock vina via chatgpt thing') \n",
    "print('nvm chatgpt useless using their read the docs on their github')\n",
    "#python train_agent.py -p result_newPrior/prior/gpt_model_10_0.124.pt -a result_newPrior/prior/gpt_model_final_0.124.pt  -o result_newPrior/ace2- -t ace2 --sigma 60  --n_steps 1000 --device cpu\n",
    "print('Installed Vina reqs (meeko, Autogrid4, the linux thing')\n",
    "print('Honestly tomrrow just start from scratch and copy over the old model (with config file)')\n",
    "print('as in new venv')\n",
    "print('alright just try to install the executable because pip wont')\n",
    "print('installed vina with wget to the releases github page')\n",
    "print('wget https://github.com/ccsb-scripps/AutoDock-Vina/releases/download/v1.2.5/vina_1.2.5_linux_x86_64 -O vina')\n",
    "print('then move it to the bin (venv/bin for me)')\n",
    "print('possibly need to do chmod +x vina')\n",
    "\n",
    "print('manually editing the docker config file to represent the file locations and vina location')\n",
    "print('in the docking execute command - leave the default stuff, just change the config file (make sure binary_location can be None for obabel)')\n",
    "\n",
    "#python train_agent.py -p /home/jovyan/envs/sgpt_take1/sgpt/result_newPrior/prior/gpt_model_final_0.124.pt -a /home/jovyan/envs/sgpt_take1/sgpt/result_newPrior/prior/gpt_model_final_0.124.pt  -o result_FEB26/ace2- -t ace2 --sigma 60  --n_steps 1000 --device cpu\n",
    "\n",
    "\n",
    "print('\\n\\nGenerate')\n",
    "print('hard coding in gpt config.json in model.model.py')\n",
    "print('added in sys.path like in some of the other agent trainer ones')\n",
    "\n",
    "print('python generate.py --model_path result_newPrior/prior/gpt_model_final_0.124.pt --out_file resultnewPrior/prior/sgpt-10000.csv --num_to_sample 10000 --device cpu')\n",
    "print('TODO - Run moses get_all_metrics() or whatever on the output of generate.py')"
   ]
  },
  {
   "cell_type": "code",
   "execution_count": 12,
   "id": "97d36e06-936f-4e26-b727-14c560530954",
   "metadata": {},
   "outputs": [
    {
     "data": {
      "text/plain": [
       "'/home/jovyan/envs/sgpt_take1/sgpt/venv/lib/python3.10/site-packages/vina'"
      ]
     },
     "execution_count": 12,
     "metadata": {},
     "output_type": "execute_result"
    }
   ],
   "source": [
    "import os\n",
    "os.path.join('/home/jovyan/envs/sgpt_take1/sgpt/venv/lib/python3.10/site-packages','vina')"
   ]
  },
  {
   "cell_type": "code",
   "execution_count": 1,
   "id": "a5b30d61-d09f-4ea2-b13c-f9b5360b65ff",
   "metadata": {},
   "outputs": [
    {
     "name": "stdout",
     "output_type": "stream",
     "text": [
      "yeah\n"
     ]
    }
   ],
   "source": [
    "print('yeah')"
   ]
  },
  {
   "cell_type": "code",
   "execution_count": 8,
   "id": "0131a485-33a2-4bd4-9ca3-eba38c694bec",
   "metadata": {},
   "outputs": [
    {
     "data": {
      "text/plain": [
       "['/usr/lib/python310.zip',\n",
       " '/usr/lib/python3.10',\n",
       " '/usr/lib/python3.10/lib-dynload',\n",
       " '',\n",
       " '/home/jovyan/envs/sgpt_take1/sgpt/venv/lib/python3.10/site-packages']"
      ]
     },
     "execution_count": 8,
     "metadata": {},
     "output_type": "execute_result"
    }
   ],
   "source": [
    "import sys\n",
    "sys.path"
   ]
  },
  {
   "cell_type": "code",
   "execution_count": 9,
   "id": "6b2496eb-f0a8-4939-904a-aad310ec03cc",
   "metadata": {},
   "outputs": [
    {
     "ename": "AttributeError",
     "evalue": "module 'sys' has no attribute 'find'",
     "output_type": "error",
     "traceback": [
      "\u001b[0;31m---------------------------------------------------------------------------\u001b[0m",
      "\u001b[0;31mAttributeError\u001b[0m                            Traceback (most recent call last)",
      "Cell \u001b[0;32mIn[9], line 1\u001b[0m\n\u001b[0;32m----> 1\u001b[0m \u001b[43msys\u001b[49m\u001b[38;5;241;43m.\u001b[39;49m\u001b[43mfind\u001b[49m(vina)\n",
      "\u001b[0;31mAttributeError\u001b[0m: module 'sys' has no attribute 'find'"
     ]
    }
   ],
   "source": []
  },
  {
   "cell_type": "code",
   "execution_count": 2,
   "id": "45c463f5-d40d-438d-a94a-d039dfba0ad5",
   "metadata": {},
   "outputs": [],
   "source": [
    "import sys\n",
    "sys.path.append('/home/jovyan/envs/sgpt_take1/sgpt/moses_1')\n",
    "#sys.path.append('/home/jovyan/envs/sgpt_take1/sgpt')\n",
    "#from moses.metrics import get_all_metrics"
   ]
  },
  {
   "cell_type": "code",
   "execution_count": 10,
   "id": "165a0166-55a1-4b11-8da4-93c654199903",
   "metadata": {},
   "outputs": [],
   "source": [
    "from agent.scoring_functions import ScoringFunctions"
   ]
  },
  {
   "cell_type": "code",
   "execution_count": 3,
   "id": "abcd765b-2456-41ac-9798-81ddd044654c",
   "metadata": {},
   "outputs": [
    {
     "data": {
      "text/plain": [
       "['/usr/lib/python310.zip',\n",
       " '/usr/lib/python3.10',\n",
       " '/usr/lib/python3.10/lib-dynload',\n",
       " '',\n",
       " '/home/jovyan/envs/sgpt_take1/sgpt/venv/lib/python3.10/site-packages',\n",
       " '/home/jovyan/envs/sgpt_take1/sgpt/moses_1']"
      ]
     },
     "execution_count": 3,
     "metadata": {},
     "output_type": "execute_result"
    }
   ],
   "source": []
  },
  {
   "cell_type": "code",
   "execution_count": 5,
   "id": "906314fd-f852-444f-b05c-1d975db630a8",
   "metadata": {},
   "outputs": [],
   "source": [
    "#np.ones(5)\n",
    "import moses"
   ]
  },
  {
   "cell_type": "code",
   "execution_count": 7,
   "id": "1b3cf0eb-d6bc-468a-ad61-d9821f48a9e0",
   "metadata": {},
   "outputs": [
    {
     "data": {
      "text/plain": [
       "['CharVocab',\n",
       " 'StringDataset',\n",
       " '__all__',\n",
       " '__builtins__',\n",
       " '__cached__',\n",
       " '__doc__',\n",
       " '__file__',\n",
       " '__loader__',\n",
       " '__name__',\n",
       " '__package__',\n",
       " '__path__',\n",
       " '__spec__',\n",
       " '__version__',\n",
       " 'dataset',\n",
       " 'get_all_metrics',\n",
       " 'get_dataset',\n",
       " 'metrics',\n",
       " 'utils']"
      ]
     },
     "execution_count": 7,
     "metadata": {},
     "output_type": "execute_result"
    }
   ],
   "source": [
    "dir(moses)"
   ]
  },
  {
   "cell_type": "code",
   "execution_count": 3,
   "id": "7e458bb0-943d-43d6-a657-baf4104713cd",
   "metadata": {},
   "outputs": [],
   "source": [
    "sys.path\n",
    "from moses.metrics import get_all_metrics"
   ]
  },
  {
   "cell_type": "code",
   "execution_count": 6,
   "id": "4253e581-f66f-4fac-967e-52254f59153e",
   "metadata": {},
   "outputs": [
    {
     "name": "stderr",
     "output_type": "stream",
     "text": [
      "2025-02-14 20:22:06.639954: I tensorflow/core/util/port.cc:153] oneDNN custom operations are on. You may see slightly different numerical results due to floating-point round-off errors from different computation orders. To turn them off, set the environment variable `TF_ENABLE_ONEDNN_OPTS=0`.\n",
      "2025-02-14 20:22:07.150284: E external/local_xla/xla/stream_executor/cuda/cuda_fft.cc:477] Unable to register cuFFT factory: Attempting to register factory for plugin cuFFT when one has already been registered\n",
      "WARNING: All log messages before absl::InitializeLog() is called are written to STDERR\n",
      "E0000 00:00:1739564527.332429    1850 cuda_dnn.cc:8310] Unable to register cuDNN factory: Attempting to register factory for plugin cuDNN when one has already been registered\n",
      "E0000 00:00:1739564527.386723    1850 cuda_blas.cc:1418] Unable to register cuBLAS factory: Attempting to register factory for plugin cuBLAS when one has already been registered\n",
      "2025-02-14 20:22:07.875769: I tensorflow/core/platform/cpu_feature_guard.cc:210] This TensorFlow binary is optimized to use available CPU instructions in performance-critical operations.\n",
      "To enable the following instructions: AVX2 AVX512F AVX512_VNNI FMA, in other operations, rebuild TensorFlow with the appropriate compiler flags.\n"
     ]
    }
   ],
   "source": [
    "import tensorflow"
   ]
  }
 ],
 "metadata": {
  "kernelspec": {
   "display_name": "Python (sgpt_tak1)",
   "language": "python",
   "name": "sgpt_take1"
  },
  "language_info": {
   "codemirror_mode": {
    "name": "ipython",
    "version": 3
   },
   "file_extension": ".py",
   "mimetype": "text/x-python",
   "name": "python",
   "nbconvert_exporter": "python",
   "pygments_lexer": "ipython3",
   "version": "3.10.12"
  }
 },
 "nbformat": 4,
 "nbformat_minor": 5
}
